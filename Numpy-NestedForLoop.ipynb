{
 "cells": [
  {
   "cell_type": "code",
   "execution_count": 3,
   "metadata": {},
   "outputs": [
    {
     "name": "stdout",
     "output_type": "stream",
     "text": [
      "10\n",
      "20\n",
      "30\n",
      "40\n",
      "50\n",
      "60\n",
      "70\n",
      "80\n",
      "90\n"
     ]
    }
   ],
   "source": [
    "import numpy as np\n",
    "\n",
    "i = np.array([[10, 20, 30], [40, 50, 60], [70,80,90]])\n",
    "\n",
    "for j in i:\n",
    "    for k in j:\n",
    "        print(k)"
   ]
  },
  {
   "cell_type": "code",
   "execution_count": 4,
   "metadata": {},
   "outputs": [
    {
     "name": "stdout",
     "output_type": "stream",
     "text": [
      "[[10 20 30]\n",
      " [40 50 60]\n",
      " [70 80 90]]\n",
      "[[1 2 3]\n",
      " [4 5 6]\n",
      " [7 8 9]]\n",
      "[[10 20 30]\n",
      " [40 50 60]\n",
      " [70 80 90]]\n"
     ]
    }
   ],
   "source": [
    "import numpy as np\n",
    "\n",
    "i = np.array([\n",
    "    [[10, 20, 30], [40, 50, 60], [70,80,90]],\n",
    "    [[1, 2, 3], [4, 5, 6], [7,8,9]],\n",
    "    [[10, 20, 30], [40, 50, 60], [70,80,90]],\n",
    " ])\n",
    "\n",
    "for j in i:\n",
    "    print(j)"
   ]
  },
  {
   "cell_type": "code",
   "execution_count": 7,
   "metadata": {},
   "outputs": [
    {
     "name": "stdout",
     "output_type": "stream",
     "text": [
      "10\n",
      "20\n",
      "30\n",
      "40\n",
      "50\n",
      "60\n",
      "70\n",
      "80\n",
      "90\n",
      "1\n",
      "2\n",
      "3\n",
      "4\n",
      "5\n",
      "6\n",
      "7\n",
      "8\n",
      "9\n",
      "10\n",
      "20\n",
      "30\n",
      "40\n",
      "50\n",
      "60\n",
      "70\n",
      "80\n",
      "90\n"
     ]
    }
   ],
   "source": [
    "import numpy as np\n",
    "\n",
    "i = np.array([\n",
    "    [[10, 20, 30], [40, 50, 60], [70,80,90]],\n",
    "    [[1, 2, 3], [4, 5, 6], [7,8,9]],\n",
    "    [[10, 20, 30], [40, 50, 60], [70,80,90]],\n",
    " ])\n",
    "\n",
    "for j in i:\n",
    "    for k in j:\n",
    "        for m in k:\n",
    "            print(m)"
   ]
  },
  {
   "cell_type": "code",
   "execution_count": 8,
   "metadata": {},
   "outputs": [
    {
     "name": "stdout",
     "output_type": "stream",
     "text": [
      "2\n"
     ]
    }
   ],
   "source": [
    "from numpy import random\n",
    "\n",
    "i = random.randint(10)\n",
    "\n",
    "print(i)"
   ]
  },
  {
   "cell_type": "code",
   "execution_count": 9,
   "metadata": {},
   "outputs": [
    {
     "name": "stdout",
     "output_type": "stream",
     "text": [
      "0.2217347233842757\n"
     ]
    }
   ],
   "source": [
    "from numpy import random\n",
    "\n",
    "i = random.rand()\n",
    "\n",
    "print(i)"
   ]
  },
  {
   "cell_type": "code",
   "execution_count": 10,
   "metadata": {},
   "outputs": [
    {
     "name": "stdout",
     "output_type": "stream",
     "text": [
      "[0.02794022 0.2778216  0.02457154 0.37808913 0.46629198 0.16004229\n",
      " 0.29518384 0.06795197 0.97990291 0.11998573 0.61816281]\n"
     ]
    }
   ],
   "source": [
    "from numpy import random\n",
    "\n",
    "i = random.rand(11)\n",
    "\n",
    "print(i)"
   ]
  },
  {
   "cell_type": "code",
   "execution_count": 11,
   "metadata": {},
   "outputs": [
    {
     "name": "stdout",
     "output_type": "stream",
     "text": [
      "[25 16 62 48 60 78 82 34 30 71]\n"
     ]
    }
   ],
   "source": [
    "from numpy import random\n",
    "\n",
    "i = random.randint(100, size=(10))\n",
    "\n",
    "print(i)"
   ]
  },
  {
   "cell_type": "code",
   "execution_count": 12,
   "metadata": {},
   "outputs": [
    {
     "name": "stdout",
     "output_type": "stream",
     "text": [
      "[[91 63 25 74 65]\n",
      " [ 6  4 79 24 19]\n",
      " [61  7 83 60 26]]\n"
     ]
    }
   ],
   "source": [
    "from numpy import random\n",
    "\n",
    "i = random.randint(100, size=(3, 5))\n",
    "\n",
    "print(i)"
   ]
  },
  {
   "cell_type": "code",
   "execution_count": 13,
   "metadata": {},
   "outputs": [
    {
     "name": "stdout",
     "output_type": "stream",
     "text": [
      "[[16 98 40 41 91]\n",
      " [63 15 51 89 81]\n",
      " [72 48 72 29 36]\n",
      " [56 87 16 70 53]\n",
      " [18 85 86 52 89]]\n"
     ]
    }
   ],
   "source": [
    "from numpy import random\n",
    "\n",
    "i = random.randint(100, size=(5, 5))\n",
    "\n",
    "print(i)"
   ]
  },
  {
   "cell_type": "code",
   "execution_count": 15,
   "metadata": {},
   "outputs": [
    {
     "name": "stdout",
     "output_type": "stream",
     "text": [
      "[[[14  9]\n",
      "  [78  0]\n",
      "  [ 9 42]\n",
      "  [51 85]\n",
      "  [58 11]]\n",
      "\n",
      " [[70 83]\n",
      "  [76 97]\n",
      "  [53 73]\n",
      "  [90 12]\n",
      "  [33 49]]\n",
      "\n",
      " [[83 32]\n",
      "  [80 92]\n",
      "  [65 17]\n",
      "  [18 56]\n",
      "  [58 44]]]\n"
     ]
    }
   ],
   "source": [
    "from numpy import random\n",
    "\n",
    "i = random.randint(100, size=(3,5,2))\n",
    "\n",
    "print(i)"
   ]
  },
  {
   "cell_type": "code",
   "execution_count": 16,
   "metadata": {},
   "outputs": [
    {
     "name": "stdout",
     "output_type": "stream",
     "text": [
      "[[0.09961459 0.76270551 0.64461611 0.11060839 0.8325768 ]\n",
      " [0.81495235 0.29025858 0.51049021 0.17576209 0.22523268]\n",
      " [0.12320006 0.48068556 0.477561   0.88839552 0.9442285 ]]\n"
     ]
    }
   ],
   "source": [
    "from numpy import random\n",
    "\n",
    "i = random.rand(3, 5)\n",
    "\n",
    "print(i)"
   ]
  },
  {
   "cell_type": "code",
   "execution_count": 17,
   "metadata": {},
   "outputs": [
    {
     "name": "stdout",
     "output_type": "stream",
     "text": [
      "70\n"
     ]
    }
   ],
   "source": [
    "from numpy import random\n",
    "\n",
    "list1 = [10,20,30,40,50,60,70,80,90]\n",
    "\n",
    "i = random.choice(list1)\n",
    "\n",
    "print(i)"
   ]
  },
  {
   "cell_type": "code",
   "execution_count": 18,
   "metadata": {},
   "outputs": [
    {
     "name": "stdout",
     "output_type": "stream",
     "text": [
      "[[10 60 20 10 30]\n",
      " [60 10 30 10 20]\n",
      " [20 30 60 70 30]]\n"
     ]
    }
   ],
   "source": [
    "from numpy import random\n",
    "\n",
    "list1 = [10,20,30,40,50,60,70]\n",
    "\n",
    "i = random.choice(list1, size=(3, 5))\n",
    "\n",
    "print(i)"
   ]
  },
  {
   "cell_type": "code",
   "execution_count": 19,
   "metadata": {},
   "outputs": [
    {
     "name": "stdout",
     "output_type": "stream",
     "text": [
      "[[[40 20]\n",
      "  [20 60]\n",
      "  [60 50]\n",
      "  [30 20]\n",
      "  [10 40]]\n",
      "\n",
      " [[50 60]\n",
      "  [20 20]\n",
      "  [70 20]\n",
      "  [50 10]\n",
      "  [30 10]]\n",
      "\n",
      " [[50 70]\n",
      "  [70 10]\n",
      "  [20 30]\n",
      "  [50 20]\n",
      "  [20 40]]]\n"
     ]
    }
   ],
   "source": [
    "from numpy import random\n",
    "\n",
    "list1 = [10,20,30,40,50,60,70]\n",
    "\n",
    "i = random.choice(list1, size=(3, 5, 2))\n",
    "\n",
    "print(i)"
   ]
  },
  {
   "cell_type": "code",
   "execution_count": null,
   "metadata": {},
   "outputs": [],
   "source": []
  }
 ],
 "metadata": {
  "kernelspec": {
   "display_name": "Python 3",
   "language": "python",
   "name": "python3"
  },
  "language_info": {
   "codemirror_mode": {
    "name": "ipython",
    "version": 3
   },
   "file_extension": ".py",
   "mimetype": "text/x-python",
   "name": "python",
   "nbconvert_exporter": "python",
   "pygments_lexer": "ipython3",
   "version": "3.8.5"
  }
 },
 "nbformat": 4,
 "nbformat_minor": 4
}
